{
 "cells": [
  {
   "cell_type": "markdown",
   "metadata": {},
   "source": [
    "## Geometry Analysis Homework "
   ]
  },
  {
   "cell_type": "code",
   "execution_count": 1,
   "metadata": {},
   "outputs": [],
   "source": [
    "import os  \n",
    "import numpy  #used for math functions"
   ]
  },
  {
   "cell_type": "code",
   "execution_count": 2,
   "metadata": {},
   "outputs": [
    {
     "name": "stdout",
     "output_type": "stream",
     "text": [
      "data/water.xyz\n"
     ]
    }
   ],
   "source": [
    "file_location = os.path.join('data', 'water.xyz')\n",
    "print(file_location)"
   ]
  },
  {
   "cell_type": "code",
   "execution_count": 4,
   "metadata": {},
   "outputs": [
    {
     "name": "stdout",
     "output_type": "stream",
     "text": [
      "[['O' '0.000000' '-0.007156' '0.965491']\n",
      " ['H1' '-0.000000' '0.001486' '-0.003471']\n",
      " ['H2' '0.000000' '0.931026' '1.207929']]\n"
     ]
    }
   ],
   "source": [
    "#numpy.genfromtxt puts output in a mtrix, so needs same # of columns in each row\n",
    "xyz_file = numpy.genfromtxt(fname = file_location, dtype = 'unicode', skip_header = 2)\n",
    "print(xyz_file)"
   ]
  },
  {
   "cell_type": "code",
   "execution_count": 10,
   "metadata": {},
   "outputs": [],
   "source": [
    "atoms = xyz_file[:, 0]\n",
    "coord = xyz_file[:, 1:].astype(numpy.float)\n",
    "#use $$ for formula display"
   ]
  },
  {
   "cell_type": "markdown",
   "metadata": {},
   "source": [
    "$$ distance formula = \\sqrt{(x1-x2)^2 + (y1-y2)^2 + (z1-z2)^2} $$"
   ]
  },
  {
   "cell_type": "code",
   "execution_count": 12,
   "metadata": {},
   "outputs": [
    {
     "name": "stdout",
     "output_type": "stream",
     "text": [
      "O to O: 0.000\n",
      "O to H1: 0.969\n",
      "O to H2: 0.969\n",
      "H1 to O: 0.969\n",
      "H1 to H1: 0.000\n",
      "H1 to H2: 1.527\n",
      "H2 to O: 0.969\n",
      "H2 to H1: 1.527\n",
      "H2 to H2: 0.000\n"
     ]
    }
   ],
   "source": [
    "for atom1 in range(len(atoms)):\n",
    "    for atom2 in range(len(atoms)):\n",
    "        x_dist = coord[atom1, 0] - coord[atom2, 0]\n",
    "        y_dist = coord[atom1, 1] - coord[atom2, 1]\n",
    "        z_dist = coord[atom1, 2] - coord[atom2, 2]\n",
    "        dist = numpy.sqrt((x_dist)**2 + (y_dist)**2 + (z_dist)**2)\n",
    "        print(F'{atoms[atom1]} to {atoms[atom2]}: {dist:.3f}')"
   ]
  },
  {
   "cell_type": "markdown",
   "metadata": {},
   "source": [
    "## Avoiding replicas & only printing for bonded atoms"
   ]
  },
  {
   "cell_type": "code",
   "execution_count": 20,
   "metadata": {},
   "outputs": [
    {
     "name": "stdout",
     "output_type": "stream",
     "text": [
      "O to H1: 0.969\n",
      "O to H2: 0.969\n"
     ]
    }
   ],
   "source": [
    "done_dist = []\n",
    "for atom1 in range(len(atoms)):\n",
    "    for atom2 in range(len(atoms)):\n",
    "        if atom1 < atom2:\n",
    "            x_dist = coord[atom1, 0] - coord[atom2, 0]\n",
    "            y_dist = coord[atom1, 1] - coord[atom2, 1]\n",
    "            z_dist = coord[atom1, 2] - coord[atom2, 2]\n",
    "            dist = numpy.sqrt((x_dist)**2 + (y_dist)**2 + (z_dist)**2)\n",
    "            if dist > 0 and dist <= 1.5:\n",
    "                print(F'{atoms[atom1]} to {atoms[atom2]}: {dist:.3f}')"
   ]
  },
  {
   "cell_type": "code",
   "execution_count": 21,
   "metadata": {},
   "outputs": [
    {
     "name": "stdout",
     "output_type": "stream",
     "text": [
      "O to H1: 0.969\n",
      "O to H2: 0.969\n"
     ]
    }
   ],
   "source": [
    "import os  \n",
    "import numpy \n",
    "\n",
    "file_location = os.path.join('data', 'water.xyz')\n",
    "xyz_file = numpy.genfromtxt(fname = file_location, dtype = 'unicode', skip_header = 2)\n",
    "\n",
    "atoms = xyz_file[:, 0]\n",
    "coord = xyz_file[:, 1:].astype(numpy.float)\n",
    "\n",
    "for atom1 in range(len(atoms)):\n",
    "    for atom2 in range(len(atoms)):\n",
    "        if atom1 < atom2:\n",
    "            x_dist = coord[atom1, 0] - coord[atom2, 0]\n",
    "            y_dist = coord[atom1, 1] - coord[atom2, 1]\n",
    "            z_dist = coord[atom1, 2] - coord[atom2, 2]\n",
    "            dist = numpy.sqrt((x_dist)**2 + (y_dist)**2 + (z_dist)**2)\n",
    "            if dist > 0 and dist <= 1.5:\n",
    "                print(F'{atoms[atom1]} to {atoms[atom2]}: {dist:.3f}')"
   ]
  },
  {
   "cell_type": "markdown",
   "metadata": {},
   "source": [
    "## Writing functions"
   ]
  },
  {
   "cell_type": "code",
   "execution_count": 30,
   "metadata": {},
   "outputs": [],
   "source": [
    "def calc_distance(coord1, coord2):\n",
    "    x_dist = coord1[0] - coord2[0]\n",
    "    y_dist = coord1[1] - coord2[1]\n",
    "    z_dist = coord1[2] - coord2[2]\n",
    "    dist = numpy.sqrt((x_dist)**2 + (y_dist)**2 + (z_dist)**2)\n",
    "    return dist"
   ]
  },
  {
   "cell_type": "code",
   "execution_count": 32,
   "metadata": {},
   "outputs": [
    {
     "name": "stdout",
     "output_type": "stream",
     "text": [
      "O to H1: 0.969\n",
      "O to H2: 0.969\n"
     ]
    }
   ],
   "source": [
    "for atom1 in range(len(atoms)):\n",
    "    for atom2 in range(len(atoms)):\n",
    "        if atom1 < atom2:\n",
    "            dist = calc_distance(coord[atom1], coord[atom2])\n",
    "            if dist > 0 and dist <= 1.5:\n",
    "                print(F'{atoms[atom1]} to {atoms[atom2]}: {dist:.3f}')"
   ]
  },
  {
   "cell_type": "code",
   "execution_count": 50,
   "metadata": {},
   "outputs": [],
   "source": [
    "def bond_check(distance, min_dist = 0, max_dist = 1.5):\n",
    "    #documentation for help\n",
    "    \"\"\"\n",
    "    Check if a distance is a bond based on a minimum and maximum length.\n",
    "    Inputs: distance, min_length, max_length\n",
    "    Defaults: min_length = 0, max_length = 1.5\n",
    "    Return: True or False\n",
    "    \"\"\"\n",
    "    if distance > min_dist and distance <= max_dist:\n",
    "        return True\n",
    "    else:\n",
    "        return False"
   ]
  },
  {
   "cell_type": "code",
   "execution_count": 47,
   "metadata": {},
   "outputs": [
    {
     "name": "stdout",
     "output_type": "stream",
     "text": [
      "O to H1: 0.969\n",
      "O to H2: 0.969\n"
     ]
    }
   ],
   "source": [
    "for atom1 in range(len(atoms)):\n",
    "    for atom2 in range(len(atoms)):\n",
    "        if atom1 < atom2:\n",
    "            dist = calc_distance(coord[atom1], coord[atom2])\n",
    "            if bond_check(dist) == True:\n",
    "                print(F'{atoms[atom1]} to {atoms[atom2]}: {dist:.3f}')"
   ]
  },
  {
   "cell_type": "code",
   "execution_count": 51,
   "metadata": {
    "scrolled": true
   },
   "outputs": [
    {
     "name": "stdout",
     "output_type": "stream",
     "text": [
      "Help on function bond_check in module __main__:\n",
      "\n",
      "bond_check(distance, min_dist=0, max_dist=1.5)\n",
      "    Check if a distance is a bond based on a minimum and maximum length.\n",
      "    Inputs: distance, min_length, max_length\n",
      "    Defaults: min_length = 0, max_length = 1.5\n",
      "    Return: True or False\n",
      "\n"
     ]
    }
   ],
   "source": [
    "help(bond_check)"
   ]
  },
  {
   "cell_type": "code",
   "execution_count": 54,
   "metadata": {},
   "outputs": [
    {
     "name": "stdout",
     "output_type": "stream",
     "text": [
      "O to H1: 0.969\n",
      "O to H2: 0.969\n"
     ]
    }
   ],
   "source": [
    "import os  \n",
    "import numpy \n",
    "\n",
    "def calc_distance(coord1, coord2):\n",
    "    \"\"\"\n",
    "    Calculates distance between 2 vectors\n",
    "    Inputs: 2 sets of coordinates\n",
    "    Return: Distance between two points\n",
    "    \"\"\"\n",
    "    x_dist = coord1[0] - coord2[0]\n",
    "    y_dist = coord1[1] - coord2[1]\n",
    "    z_dist = coord1[2] - coord2[2]\n",
    "    dist = numpy.sqrt((x_dist)**2 + (y_dist)**2 + (z_dist)**2)\n",
    "    return dist\n",
    "\n",
    "def bond_check(distance, min_dist = 0, max_dist = 1.5):\n",
    "    #documentation for help\n",
    "    \"\"\"\n",
    "    Check if a distance is a bond based on a minimum and maximum length.\n",
    "    Inputs: distance, min_length, max_length\n",
    "    Defaults: min_length = 0, max_length = 1.5\n",
    "    Return: True or False\n",
    "    \"\"\"\n",
    "    if distance > min_dist and distance <= max_dist:\n",
    "        return True\n",
    "    else:\n",
    "        return False\n",
    "\n",
    "file_location = os.path.join('data', 'water.xyz')\n",
    "xyz_file = numpy.genfromtxt(fname = file_location, dtype = 'unicode', skip_header = 2)\n",
    "\n",
    "atoms = xyz_file[:, 0]\n",
    "coord = xyz_file[:, 1:].astype(numpy.float)\n",
    "\n",
    "for atom1 in range(len(atoms)):\n",
    "    for atom2 in range(len(atoms)):\n",
    "        if atom1 < atom2:\n",
    "            dist = calc_distance(coord[atom1], coord[atom2])\n",
    "            if bond_check(dist) == True:\n",
    "                print(F'{atoms[atom1]} to {atoms[atom2]}: {dist:.3f}')"
   ]
  },
  {
   "cell_type": "code",
   "execution_count": null,
   "metadata": {},
   "outputs": [],
   "source": []
  }
 ],
 "metadata": {
  "kernelspec": {
   "display_name": "Python 3",
   "language": "python",
   "name": "python3"
  },
  "language_info": {
   "codemirror_mode": {
    "name": "ipython",
    "version": 3
   },
   "file_extension": ".py",
   "mimetype": "text/x-python",
   "name": "python",
   "nbconvert_exporter": "python",
   "pygments_lexer": "ipython3",
   "version": "3.7.6"
  }
 },
 "nbformat": 4,
 "nbformat_minor": 4
}
