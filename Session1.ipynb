{
 "cells": [
  {
   "cell_type": "markdown",
   "metadata": {},
   "source": [
    "# MolSSI Workshop\n",
    "## Introduction"
   ]
  },
  {
   "cell_type": "code",
   "execution_count": 1,
   "metadata": {},
   "outputs": [],
   "source": [
    "#Can assign multiple variables in one line\n",
    "variable1, variable2, variable3 = 1, 2, 3"
   ]
  },
  {
   "cell_type": "markdown",
   "metadata": {},
   "source": [
    "## File parsing"
   ]
  },
  {
   "cell_type": "code",
   "execution_count": 2,
   "metadata": {},
   "outputs": [
    {
     "name": "stdout",
     "output_type": "stream",
     "text": [
      "03_Prod.mdout              \u001b[34moutfiles\u001b[m\u001b[m/\r\n",
      "benzene.xyz                sapt.out\r\n",
      "buckminsterfullerene.xyz   water.xyz\r\n",
      "distance_data_headers.csv\r\n"
     ]
    }
   ],
   "source": [
    "ls data"
   ]
  },
  {
   "cell_type": "code",
   "execution_count": 4,
   "metadata": {},
   "outputs": [
    {
     "data": {
      "text/plain": [
       "'/Users/dsafarian/Desktop/cms-worshop'"
      ]
     },
     "execution_count": 4,
     "metadata": {},
     "output_type": "execute_result"
    }
   ],
   "source": [
    "pwd #print workign directory"
   ]
  },
  {
   "cell_type": "code",
   "execution_count": 5,
   "metadata": {},
   "outputs": [],
   "source": [
    "import os"
   ]
  },
  {
   "cell_type": "code",
   "execution_count": 6,
   "metadata": {},
   "outputs": [
    {
     "name": "stdout",
     "output_type": "stream",
     "text": [
      "data/outfiles/ethanol.out\n"
     ]
    }
   ],
   "source": [
    "#for interoperability\n",
    "#library.module.function\n",
    "#just constructs the file path so you can use it\n",
    "ethanol_file = os.path.join('data', 'outfiles', 'ethanol.out')\n",
    "print(ethanol_file)"
   ]
  },
  {
   "cell_type": "code",
   "execution_count": 9,
   "metadata": {},
   "outputs": [
    {
     "name": "stdout",
     "output_type": "stream",
     "text": [
      "270\n"
     ]
    }
   ],
   "source": [
    "outfile = open(ethanol_file, 'r')\n",
    "data = outfile.readlines()\n",
    "num_lines = len(data)\n",
    "print(num_lines)\n",
    "outfile.close()"
   ]
  },
  {
   "cell_type": "code",
   "execution_count": 10,
   "metadata": {},
   "outputs": [
    {
     "name": "stdout",
     "output_type": "stream",
     "text": [
      "  @DF-RHF Final Energy:  -154.09130176573018\n",
      "\n"
     ]
    }
   ],
   "source": [
    "for line in data:\n",
    "    if 'Final Energy' in line:\n",
    "        energy_line = line\n",
    "        print(energy_line)"
   ]
  },
  {
   "cell_type": "code",
   "execution_count": 11,
   "metadata": {},
   "outputs": [
    {
     "name": "stdout",
     "output_type": "stream",
     "text": [
      "['@DF-RHF', 'Final', 'Energy:', '-154.09130176573018']\n"
     ]
    }
   ],
   "source": [
    "words = energy_line.split()\n",
    "print(words)"
   ]
  },
  {
   "cell_type": "code",
   "execution_count": 14,
   "metadata": {},
   "outputs": [
    {
     "name": "stdout",
     "output_type": "stream",
     "text": [
      "-154.09130176573018\n"
     ]
    }
   ],
   "source": [
    "final_energy = words[-1]\n",
    "print(final_energy)"
   ]
  },
  {
   "cell_type": "code",
   "execution_count": 15,
   "metadata": {},
   "outputs": [],
   "source": [
    "final_energy = float(final_energy)"
   ]
  },
  {
   "cell_type": "code",
   "execution_count": 16,
   "metadata": {},
   "outputs": [],
   "source": [
    "import glob #helps analyze multiple files"
   ]
  },
  {
   "cell_type": "code",
   "execution_count": 17,
   "metadata": {},
   "outputs": [],
   "source": [
    "file_location = os.path.join('data', 'outfiles', '*.out')"
   ]
  },
  {
   "cell_type": "code",
   "execution_count": 19,
   "metadata": {},
   "outputs": [
    {
     "name": "stdout",
     "output_type": "stream",
     "text": [
      "['data/outfiles/propanol.out', 'data/outfiles/pentanol.out', 'data/outfiles/decanol.out', 'data/outfiles/methanol.out', 'data/outfiles/octanol.out', 'data/outfiles/ethanol.out', 'data/outfiles/hexanol.out', 'data/outfiles/heptanol.out', 'data/outfiles/butanol.out', 'data/outfiles/nonanol.out']\n"
     ]
    }
   ],
   "source": [
    "#from glob lib\n",
    "#puts files in list\n",
    "filenames = glob.glob(file_location)\n",
    "print(filenames)"
   ]
  },
  {
   "cell_type": "code",
   "execution_count": 22,
   "metadata": {},
   "outputs": [
    {
     "name": "stdout",
     "output_type": "stream",
     "text": [
      "-193.12836249728798\n",
      "-271.20138119895074\n",
      "-466.38362414000858\n",
      "-115.04800861868374\n",
      "-388.31108645547431\n",
      "-154.09130176573018\n",
      "-310.23853322516328\n",
      "-349.27397687072676\n",
      "-232.16557983472831\n",
      "-427.34651800828152\n"
     ]
    }
   ],
   "source": [
    "for file in filenames:\n",
    "    outfile = open(file, 'r')\n",
    "    data = outfile.readlines()\n",
    "    outfile.close()\n",
    "    for line in data:\n",
    "        if 'Final Energy' in line:\n",
    "            energy_line = line\n",
    "            words = energy_line.split()\n",
    "            final_energy = float(words[-1])\n",
    "            print(final_energy)"
   ]
  },
  {
   "cell_type": "code",
   "execution_count": 23,
   "metadata": {},
   "outputs": [
    {
     "name": "stdout",
     "output_type": "stream",
     "text": [
      "data/outfiles/propanol.out\n"
     ]
    }
   ],
   "source": [
    "first_file = filenames[0]\n",
    "print(first_file)"
   ]
  },
  {
   "cell_type": "code",
   "execution_count": 26,
   "metadata": {},
   "outputs": [
    {
     "name": "stdout",
     "output_type": "stream",
     "text": [
      "propanol\n"
     ]
    }
   ],
   "source": [
    "#will only pull out the file name, based on file path\n",
    "file_name = os.path.basename(first_file)\n",
    "molecule_name = file_name.split('.')\n",
    "molecule_name = molecule_name[0]\n",
    "print(molecule_name)"
   ]
  },
  {
   "cell_type": "code",
   "execution_count": 29,
   "metadata": {
    "scrolled": false
   },
   "outputs": [
    {
     "name": "stdout",
     "output_type": "stream",
     "text": [
      "propanol -193.12836249728798\n",
      "pentanol -271.20138119895074\n",
      "decanol -466.3836241400086\n",
      "methanol -115.04800861868374\n",
      "octanol -388.3110864554743\n",
      "ethanol -154.09130176573018\n",
      "hexanol -310.2385332251633\n",
      "heptanol -349.27397687072676\n",
      "butanol -232.1655798347283\n",
      "nonanol -427.3465180082815\n"
     ]
    }
   ],
   "source": [
    "#to label molecule name for each energy\n",
    "for file in filenames:\n",
    "    file_name = os.path.basename(file)\n",
    "    molecule_name = file_name.split('.')\n",
    "    molecule_name = molecule_name[0]\n",
    "    outfile = open(file, 'r')\n",
    "    data = outfile.readlines()\n",
    "    outfile.close()\n",
    "    for line in data:\n",
    "        if 'Final Energy' in line:\n",
    "            energy_line = line\n",
    "            words = energy_line.split()\n",
    "            final_energy = float(words[-1])\n",
    "            print(molecule_name, final_energy)"
   ]
  },
  {
   "cell_type": "code",
   "execution_count": 35,
   "metadata": {},
   "outputs": [],
   "source": [
    "filehandle = open('energies.txt', 'w+') #w+, makes new file if doesnt exist\n",
    "for file in filenames:\n",
    "    file_name = os.path.basename(file)\n",
    "    molecule_name = file_name.split('.')\n",
    "    molecule_name = molecule_name[0]\n",
    "    outfile = open(file, 'r')\n",
    "    data = outfile.readlines()\n",
    "    outfile.close()\n",
    "    for line in data:\n",
    "        if 'Final Energy' in line:\n",
    "            energy_line = line\n",
    "            words = energy_line.split()\n",
    "            final_energy = float(words[-1])\n",
    "            #F - makes into formatted string, {} for variables\n",
    "            filehandle.write(F'{molecule_name} \\t {final_energy:.4f}\\n')\n",
    "filehandle.close()"
   ]
  },
  {
   "cell_type": "code",
   "execution_count": null,
   "metadata": {},
   "outputs": [],
   "source": []
  },
  {
   "cell_type": "code",
   "execution_count": null,
   "metadata": {},
   "outputs": [],
   "source": []
  }
 ],
 "metadata": {
  "kernelspec": {
   "display_name": "Python 3",
   "language": "python",
   "name": "python3"
  },
  "language_info": {
   "codemirror_mode": {
    "name": "ipython",
    "version": 3
   },
   "file_extension": ".py",
   "mimetype": "text/x-python",
   "name": "python",
   "nbconvert_exporter": "python",
   "pygments_lexer": "ipython3",
   "version": "3.7.6"
  }
 },
 "nbformat": 4,
 "nbformat_minor": 4
}
